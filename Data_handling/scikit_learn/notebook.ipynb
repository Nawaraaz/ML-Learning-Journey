{
 "cells": [
  {
   "cell_type": "code",
   "execution_count": 21,
   "id": "74e8d378",
   "metadata": {},
   "outputs": [],
   "source": [
    "import numpy as np\n",
    "import pandas as pd\n",
    "import matplotlib.pyplot as plt\n",
    "import seaborn as sns\n",
    "from sklearn.model_selection import train_test_split"
   ]
  },
  {
   "cell_type": "code",
   "execution_count": 22,
   "id": "c35e1a8c",
   "metadata": {},
   "outputs": [],
   "source": [
    "data = {\n",
    "    'Name': ['Ram', 'Shyam', 'Hari', 'Gita', 'Sita', 'Radha'],\n",
    "    'Age': [25, None, 30, 35, 40, 45],\n",
    "    'Salary': [50000, 45000, None, 60000, None, 70000]\n",
    "}"
   ]
  },
  {
   "cell_type": "code",
   "execution_count": null,
   "id": "73b8aba7",
   "metadata": {},
   "outputs": [
    {
     "name": "stdout",
     "output_type": "stream",
     "text": [
      "Orginal dataframe:\n",
      "     Name   Age   Salary\n",
      "0    Ram  25.0  50000.0\n",
      "1  Shyam   NaN  45000.0\n",
      "2   Hari  30.0      NaN\n",
      "3   Gita  35.0  60000.0\n",
      "4   Sita  40.0      NaN\n",
      "5  Radha  45.0  70000.0\n"
     ]
    }
   ],
   "source": [
    "df = pd.DataFrame(data) #load the data into a dataframe\n",
    "print(\"Orginal dataframe:\\n\",df)"
   ]
  },
  {
   "cell_type": "code",
   "execution_count": null,
   "id": "52e41214",
   "metadata": {},
   "outputs": [
    {
     "name": "stdout",
     "output_type": "stream",
     "text": [
      "Name      0\n",
      "Age       1\n",
      "Salary    2\n",
      "dtype: int64\n",
      "    Name   Age   Salary\n",
      "0    Ram  25.0  50000.0\n",
      "3   Gita  35.0  60000.0\n",
      "5  Radha  45.0  70000.0\n"
     ]
    }
   ],
   "source": [
    "print(df.isnull().sum()) #returns the number of null values in each column\n",
    "df_drop = df.dropna() #drop rows with missing values\n",
    "print(df_drop)\n"
   ]
  },
  {
   "cell_type": "code",
   "execution_count": null,
   "id": "b03877a9",
   "metadata": {},
   "outputs": [
    {
     "name": "stdout",
     "output_type": "stream",
     "text": [
      "Index(['Name', 'Age', 'Salary'], dtype='object')\n",
      "    Name   Age   Salary\n",
      "0    Ram  25.0  50000.0\n",
      "1  Shyam  35.0  45000.0\n",
      "2   Hari  30.0  56250.0\n",
      "3   Gita  35.0  60000.0\n",
      "4   Sita  40.0  56250.0\n",
      "5  Radha  45.0  70000.0\n"
     ]
    }
   ],
   "source": [
    "print(df.columns) #print the column names\n",
    "df['Age'] = df['Age'].fillna(df['Age'].mean()) #replacing the nan value in the age column with mean\n",
    "df['Salary'] = df['Salary'].fillna(df['Salary'].mean()) #replacing the nan value in the salary column with mean\n",
    "print(df)"
   ]
  },
  {
   "cell_type": "code",
   "execution_count": null,
   "id": "971b38ce",
   "metadata": {},
   "outputs": [
    {
     "name": "stdout",
     "output_type": "stream",
     "text": [
      "Name      0.0\n",
      "Age       0.0\n",
      "Salary    0.0\n",
      "dtype: float64\n"
     ]
    }
   ],
   "source": [
    "print(df.isnull().mean() * 100) # always calculate the missing value percentage before cleaning\n"
   ]
  },
  {
   "cell_type": "code",
   "execution_count": null,
   "id": "fa4bbed1",
   "metadata": {},
   "outputs": [],
   "source": []
  }
 ],
 "metadata": {
  "kernelspec": {
   "display_name": "env",
   "language": "python",
   "name": "python3"
  },
  "language_info": {
   "codemirror_mode": {
    "name": "ipython",
    "version": 3
   },
   "file_extension": ".py",
   "mimetype": "text/x-python",
   "name": "python",
   "nbconvert_exporter": "python",
   "pygments_lexer": "ipython3",
   "version": "3.12.3"
  }
 },
 "nbformat": 4,
 "nbformat_minor": 5
}
