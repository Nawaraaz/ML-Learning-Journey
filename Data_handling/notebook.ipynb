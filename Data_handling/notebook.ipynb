{
 "cells": [
  {
   "cell_type": "code",
   "execution_count": 12,
   "id": "d95175bd",
   "metadata": {},
   "outputs": [],
   "source": [
    "import pandas as pd\n",
    "import numpy as np\n",
    "import matplotlib.pyplot as plt\n",
    "import seaborn as sns"
   ]
  },
  {
   "cell_type": "code",
   "execution_count": 10,
   "id": "e0da2eb0",
   "metadata": {},
   "outputs": [
    {
     "name": "stdout",
     "output_type": "stream",
     "text": [
      "   PassengerId  Survived  Pclass  \\\n",
      "0          892         0       3   \n",
      "1          893         1       3   \n",
      "2          894         0       2   \n",
      "3          895         0       3   \n",
      "4          896         1       3   \n",
      "\n",
      "                                           Name     Sex   Age  SibSp  Parch  \\\n",
      "0                              Kelly, Mr. James    male  34.5      0      0   \n",
      "1              Wilkes, Mrs. James (Ellen Needs)  female  47.0      1      0   \n",
      "2                     Myles, Mr. Thomas Francis    male  62.0      0      0   \n",
      "3                              Wirz, Mr. Albert    male  27.0      0      0   \n",
      "4  Hirvonen, Mrs. Alexander (Helga E Lindqvist)  female  22.0      1      1   \n",
      "\n",
      "    Ticket     Fare Cabin Embarked  \n",
      "0   330911   7.8292   NaN        Q  \n",
      "1   363272   7.0000   NaN        S  \n",
      "2   240276   9.6875   NaN        Q  \n",
      "3   315154   8.6625   NaN        S  \n",
      "4  3101298  12.2875   NaN        S  \n",
      "shape: (418, 12)\n",
      "columns: ['PassengerId', 'Survived', 'Pclass', 'Name', 'Sex', 'Age', 'SibSp', 'Parch', 'Ticket', 'Fare', 'Cabin', 'Embarked']\n",
      "PassengerId      int64\n",
      "Survived         int64\n",
      "Pclass           int64\n",
      "Name            object\n",
      "Sex             object\n",
      "Age            float64\n",
      "SibSp            int64\n",
      "Parch            int64\n",
      "Ticket          object\n",
      "Fare           float64\n",
      "Cabin           object\n",
      "Embarked        object\n",
      "dtype: object\n",
      "       PassengerId    Survived      Pclass         Age       SibSp  \\\n",
      "count   418.000000  418.000000  418.000000  332.000000  418.000000   \n",
      "mean   1100.500000    0.363636    2.265550   30.272590    0.447368   \n",
      "std     120.810458    0.481622    0.841838   14.181209    0.896760   \n",
      "min     892.000000    0.000000    1.000000    0.170000    0.000000   \n",
      "25%     996.250000    0.000000    1.000000   21.000000    0.000000   \n",
      "50%    1100.500000    0.000000    3.000000   27.000000    0.000000   \n",
      "75%    1204.750000    1.000000    3.000000   39.000000    1.000000   \n",
      "max    1309.000000    1.000000    3.000000   76.000000    8.000000   \n",
      "\n",
      "            Parch        Fare  \n",
      "count  418.000000  417.000000  \n",
      "mean     0.392344   35.627188  \n",
      "std      0.981429   55.907576  \n",
      "min      0.000000    0.000000  \n",
      "25%      0.000000    7.895800  \n",
      "50%      0.000000   14.454200  \n",
      "75%      0.000000   31.500000  \n",
      "max      9.000000  512.329200  \n",
      "PassengerId      0\n",
      "Survived         0\n",
      "Pclass           0\n",
      "Name             0\n",
      "Sex              0\n",
      "Age             86\n",
      "SibSp            0\n",
      "Parch            0\n",
      "Ticket           0\n",
      "Fare             1\n",
      "Cabin          327\n",
      "Embarked         0\n",
      "dtype: int64\n"
     ]
    }
   ],
   "source": [
    "df = pd.read_csv('tested.csv')\n",
    "print(df.head())\n",
    "\n",
    "print(\"shape:\",df.shape)\n",
    "print(\"columns:\",df.columns.tolist())\n",
    "\n",
    "print(df.dtypes)\n",
    "\n",
    "print(df.describe())\n",
    "print(df.isnull().sum())\n"
   ]
  },
  {
   "cell_type": "code",
   "execution_count": 14,
   "id": "ba15c51f",
   "metadata": {},
   "outputs": [
    {
     "name": "stdout",
     "output_type": "stream",
     "text": [
      "After dropping missing values:      PassengerId  Survived  Pclass  \\\n",
      "12           904         1       1   \n",
      "14           906         1       1   \n",
      "24           916         1       1   \n",
      "26           918         1       1   \n",
      "28           920         0       1   \n",
      "..           ...       ...     ...   \n",
      "404         1296         0       1   \n",
      "405         1297         0       2   \n",
      "407         1299         0       1   \n",
      "411         1303         1       1   \n",
      "414         1306         1       1   \n",
      "\n",
      "                                                  Name     Sex   Age  SibSp  \\\n",
      "12       Snyder, Mrs. John Pillsbury (Nelle Stevenson)  female  23.0      1   \n",
      "14   Chaffee, Mrs. Herbert Fuller (Carrie Constance...  female  47.0      1   \n",
      "24     Ryerson, Mrs. Arthur Larned (Emily Maria Borie)  female  48.0      1   \n",
      "26                        Ostby, Miss. Helene Ragnhild  female  22.0      0   \n",
      "28                             Brady, Mr. John Bertram    male  41.0      0   \n",
      "..                                                 ...     ...   ...    ...   \n",
      "404                       Frauenthal, Mr. Isaac Gerald    male  43.0      1   \n",
      "405       Nourney, Mr. Alfred (Baron von Drachstedt\")\"    male  20.0      0   \n",
      "407                         Widener, Mr. George Dunton    male  50.0      1   \n",
      "411    Minahan, Mrs. William Edward (Lillian E Thorpe)  female  37.0      1   \n",
      "414                       Oliva y Ocana, Dona. Fermina  female  39.0      0   \n",
      "\n",
      "     Parch         Ticket      Fare            Cabin Embarked  \n",
      "12       0          21228   82.2667              B45        S  \n",
      "14       0    W.E.P. 5734   61.1750              E31        S  \n",
      "24       3       PC 17608  262.3750  B57 B59 B63 B66        C  \n",
      "26       1         113509   61.9792              B36        C  \n",
      "28       0         113054   30.5000              A21        S  \n",
      "..     ...            ...       ...              ...      ...  \n",
      "404      0          17765   27.7208              D40        C  \n",
      "405      0  SC/PARIS 2166   13.8625              D38        C  \n",
      "407      1         113503  211.5000              C80        C  \n",
      "411      0          19928   90.0000              C78        Q  \n",
      "414      0       PC 17758  108.9000             C105        C  \n",
      "\n",
      "[87 rows x 12 columns]\n"
     ]
    }
   ],
   "source": [
    "df_dropped = df.dropna()\n",
    "print(\"After dropping missing values:\", df_dropped)"
   ]
  }
 ],
 "metadata": {
  "kernelspec": {
   "display_name": "env",
   "language": "python",
   "name": "python3"
  },
  "language_info": {
   "codemirror_mode": {
    "name": "ipython",
    "version": 3
   },
   "file_extension": ".py",
   "mimetype": "text/x-python",
   "name": "python",
   "nbconvert_exporter": "python",
   "pygments_lexer": "ipython3",
   "version": "3.12.3"
  }
 },
 "nbformat": 4,
 "nbformat_minor": 5
}
