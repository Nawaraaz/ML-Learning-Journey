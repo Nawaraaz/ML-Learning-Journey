{
 "cells": [
  {
   "cell_type": "code",
   "execution_count": 1,
   "id": "6ddb1020",
   "metadata": {},
   "outputs": [],
   "source": [
    "import pandas as pd\n",
    "import numpy as np\n"
   ]
  },
  {
   "cell_type": "code",
   "execution_count": 2,
   "id": "50cfa733",
   "metadata": {},
   "outputs": [
    {
     "name": "stdout",
     "output_type": "stream",
     "text": [
      "     Name   Age  Gender  Math  Science  English Grade\n",
      "0   Aarav  18.0    Male  80.0     78.0       85     A\n",
      "1    Sita  19.0  Female  85.0     82.0       88     A\n",
      "2  Ramesh  17.0    Male  75.0     72.0       70     B\n",
      "3    Sita   NaN     NaN  90.0     95.0       92     A\n",
      "4   Binod  18.0    Male   NaN     80.0       75     B\n",
      "5    Rita  20.0  Female  70.0      NaN       65     C\n",
      "6   Aarav  18.0    Male  80.0     78.0       85     A\n",
      "7   Kiran  17.0    Male  60.0     58.0       55     C\n",
      "8   Laxmi  16.0  Female  65.0     60.0       60     C\n",
      "9    Sita  19.0  Female  85.0     88.0       90     A\n"
     ]
    }
   ],
   "source": [
    "data = {\n",
    "    'Name': ['Aarav', 'Sita', 'Ramesh', 'Sita', 'Binod', 'Rita', 'Aarav', 'Kiran', 'Laxmi', 'Sita'],\n",
    "    'Age': [18, 19, 17, np.nan, 18, 20, 18, 17, 16, 19],\n",
    "    'Gender': ['Male', 'Female', 'Male', np.nan, 'Male', 'Female', 'Male', 'Male', 'Female', 'Female'],\n",
    "    'Math': [80, 85, 75, 90, np.nan, 70, 80, 60, 65, 85],\n",
    "    'Science': [78, 82, 72, 95, 80, np.nan, 78, 58, 60, 88],\n",
    "    'English': [85, 88, 70, 92, 75, 65, 85, 55, 60, 90],\n",
    "    'Grade': ['A', 'A', 'B', 'A', 'B', 'C', 'A', 'C', 'C', 'A']\n",
    "}\n",
    "\n",
    "df = pd.DataFrame(data)\n",
    "\n",
    "print(df)"
   ]
  },
  {
   "cell_type": "code",
   "execution_count": 3,
   "id": "e73cc9a2",
   "metadata": {},
   "outputs": [
    {
     "name": "stdout",
     "output_type": "stream",
     "text": [
      "Dataset columns\n",
      "Index(['Name', 'Age', 'Gender', 'Math', 'Science', 'English', 'Grade'], dtype='object')\n",
      "Dataset shape\n",
      "(10, 7)\n",
      "Dataset types\n",
      "Name        object\n",
      "Age        float64\n",
      "Gender      object\n",
      "Math       float64\n",
      "Science    float64\n",
      "English      int64\n",
      "Grade       object\n",
      "dtype: object\n",
      "Dataset info\n",
      "<class 'pandas.core.frame.DataFrame'>\n",
      "RangeIndex: 10 entries, 0 to 9\n",
      "Data columns (total 7 columns):\n",
      " #   Column   Non-Null Count  Dtype  \n",
      "---  ------   --------------  -----  \n",
      " 0   Name     10 non-null     object \n",
      " 1   Age      9 non-null      float64\n",
      " 2   Gender   9 non-null      object \n",
      " 3   Math     9 non-null      float64\n",
      " 4   Science  9 non-null      float64\n",
      " 5   English  10 non-null     int64  \n",
      " 6   Grade    10 non-null     object \n",
      "dtypes: float64(3), int64(1), object(3)\n",
      "memory usage: 692.0+ bytes\n",
      "None\n"
     ]
    }
   ],
   "source": [
    "print(\"Dataset columns\")\n",
    "print(df.columns)\n",
    "print(\"Dataset shape\")\n",
    "print(df.shape)\n",
    "print(\"Dataset types\")\n",
    "print(df.dtypes)\n",
    "print(\"Dataset info\")\n",
    "print(df.info())"
   ]
  },
  {
   "cell_type": "code",
   "execution_count": 4,
   "id": "ccf0c8f3",
   "metadata": {},
   "outputs": [
    {
     "name": "stdout",
     "output_type": "stream",
     "text": [
      "             Age       Math    Science    English\n",
      "count   9.000000   9.000000   9.000000  10.000000\n",
      "mean   18.000000  76.666667  76.777778  76.500000\n",
      "std     1.224745  10.000000  12.018504  13.377012\n",
      "min    16.000000  60.000000  58.000000  55.000000\n",
      "25%    17.000000  70.000000  72.000000  66.250000\n",
      "50%    18.000000  80.000000  78.000000  80.000000\n",
      "75%    19.000000  85.000000  82.000000  87.250000\n",
      "max    20.000000  90.000000  95.000000  92.000000\n"
     ]
    }
   ],
   "source": [
    "print(df.describe())"
   ]
  },
  {
   "cell_type": "code",
   "execution_count": 5,
   "id": "6bbd421d",
   "metadata": {},
   "outputs": [
    {
     "name": "stdout",
     "output_type": "stream",
     "text": [
      "Missing value in the column Name       0\n",
      "Age        1\n",
      "Gender     1\n",
      "Math       1\n",
      "Science    1\n",
      "English    0\n",
      "Grade      0\n",
      "dtype: int64\n"
     ]
    }
   ],
   "source": [
    "print(\"Missing value in the column\", df.isnull().sum())\n"
   ]
  },
  {
   "cell_type": "code",
   "execution_count": 6,
   "id": "f48e2aab",
   "metadata": {},
   "outputs": [
    {
     "name": "stdout",
     "output_type": "stream",
     "text": [
      "     Name   Age  Gender  Math  Science  English Grade\n",
      "0   Aarav  18.0    Male  80.0     78.0       85     A\n",
      "1    Sita  19.0  Female  85.0     82.0       88     A\n",
      "2  Ramesh  17.0    Male  75.0     72.0       70     B\n",
      "3    Sita   NaN    Male  90.0     95.0       92     A\n",
      "4   Binod  18.0    Male   NaN     80.0       75     B\n",
      "5    Rita  20.0  Female  70.0      NaN       65     C\n",
      "6   Aarav  18.0    Male  80.0     78.0       85     A\n",
      "7   Kiran  17.0    Male  60.0     58.0       55     C\n",
      "8   Laxmi  16.0  Female  65.0     60.0       60     C\n",
      "9    Sita  19.0  Female  85.0     88.0       90     A\n"
     ]
    },
    {
     "name": "stderr",
     "output_type": "stream",
     "text": [
      "/tmp/ipykernel_101462/117180130.py:2: FutureWarning: A value is trying to be set on a copy of a DataFrame or Series through chained assignment using an inplace method.\n",
      "The behavior will change in pandas 3.0. This inplace method will never work because the intermediate object on which we are setting values always behaves as a copy.\n",
      "\n",
      "For example, when doing 'df[col].method(value, inplace=True)', try using 'df.method({col: value}, inplace=True)' or df[col] = df[col].method(value) instead, to perform the operation inplace on the original object.\n",
      "\n",
      "\n",
      "  df['Gender'].fillna(mode_gender, inplace=True)\n"
     ]
    }
   ],
   "source": [
    "mode_gender = df['Gender'].mode()[0]\n",
    "df['Gender'].fillna(mode_gender, inplace=True)\n",
    "print(df)"
   ]
  },
  {
   "cell_type": "code",
   "execution_count": 7,
   "id": "0915200b",
   "metadata": {},
   "outputs": [
    {
     "name": "stdout",
     "output_type": "stream",
     "text": [
      "     Name   Age  Gender  Math  Science  English Grade\n",
      "0   Aarav  18.0    Male  80.0     78.0       85     A\n",
      "1    Sita  19.0  Female  85.0     82.0       88     A\n",
      "2  Ramesh  17.0    Male  75.0     72.0       70     B\n",
      "3    Sita  18.0    Male  90.0     95.0       92     A\n",
      "4   Binod  18.0    Male  80.0     80.0       75     B\n",
      "5    Rita  20.0  Female  70.0     78.0       65     C\n",
      "6   Aarav  18.0    Male  80.0     78.0       85     A\n",
      "7   Kiran  17.0    Male  60.0     58.0       55     C\n",
      "8   Laxmi  16.0  Female  65.0     60.0       60     C\n",
      "9    Sita  19.0  Female  85.0     88.0       90     A\n"
     ]
    }
   ],
   "source": [
    "df['Age'] = df['Age'].fillna(df['Age'].mean())\n",
    "df['Math'] = df['Math'].fillna(df['Math'].median())\n",
    "df['Science'] = df['Science'].fillna(df['Science'].median())\n",
    "print(df)"
   ]
  },
  {
   "cell_type": "code",
   "execution_count": 8,
   "id": "3dea2dc0",
   "metadata": {},
   "outputs": [
    {
     "name": "stdout",
     "output_type": "stream",
     "text": [
      "Name       0\n",
      "Age        0\n",
      "Gender     0\n",
      "Math       0\n",
      "Science    0\n",
      "English    0\n",
      "Grade      0\n",
      "dtype: int64\n"
     ]
    }
   ],
   "source": [
    "print(df.isnull().sum())"
   ]
  },
  {
   "cell_type": "code",
   "execution_count": 9,
   "id": "66cb793d",
   "metadata": {},
   "outputs": [
    {
     "name": "stdout",
     "output_type": "stream",
     "text": [
      "Number of duplicates: 1\n",
      "Name       0\n",
      "Age        0\n",
      "Gender     0\n",
      "Math       0\n",
      "Science    0\n",
      "English    0\n",
      "Grade      0\n",
      "dtype: int64\n"
     ]
    }
   ],
   "source": [
    "print(\"Number of duplicates:\", df.duplicated().sum())\n",
    "df.drop_duplicates(inplace=True)\n",
    "print(df.isnull().sum())"
   ]
  },
  {
   "cell_type": "code",
   "execution_count": 10,
   "id": "a0d8977a",
   "metadata": {},
   "outputs": [
    {
     "name": "stdout",
     "output_type": "stream",
     "text": [
      "Name        object\n",
      "Age          int64\n",
      "Gender      object\n",
      "Math       float64\n",
      "Science    float64\n",
      "English      int64\n",
      "Grade       object\n",
      "dtype: object\n",
      "     Name  Age  Gender  Math  Science  English Grade\n",
      "0   Aarav   18    Male  80.0     78.0       85     A\n",
      "1    Sita   19  Female  85.0     82.0       88     A\n",
      "2  Ramesh   17    Male  75.0     72.0       70     B\n",
      "3    Sita   18    Male  90.0     95.0       92     A\n",
      "4   Binod   18    Male  80.0     80.0       75     B\n",
      "5    Rita   20  Female  70.0     78.0       65     C\n",
      "7   Kiran   17    Male  60.0     58.0       55     C\n",
      "8   Laxmi   16  Female  65.0     60.0       60     C\n",
      "9    Sita   19  Female  85.0     88.0       90     A\n"
     ]
    }
   ],
   "source": [
    "df['Age'] = df['Age'].astype(int)\n",
    "print(df.dtypes)\n",
    "print(df)"
   ]
  },
  {
   "cell_type": "code",
   "execution_count": 11,
   "id": "880c9e9d",
   "metadata": {},
   "outputs": [
    {
     "name": "stdout",
     "output_type": "stream",
     "text": [
      "Name       object\n",
      "Age         int64\n",
      "Gender     object\n",
      "Math        int64\n",
      "Science     int64\n",
      "English     int64\n",
      "Grade      object\n",
      "dtype: object\n",
      "     Name  Age  Gender  Math  Science  English Grade\n",
      "0   Aarav   18    Male    80       78       85     A\n",
      "1    Sita   19  Female    85       82       88     A\n",
      "2  Ramesh   17    Male    75       72       70     B\n",
      "3    Sita   18    Male    90       95       92     A\n",
      "4   Binod   18    Male    80       80       75     B\n",
      "5    Rita   20  Female    70       78       65     C\n",
      "7   Kiran   17    Male    60       58       55     C\n",
      "8   Laxmi   16  Female    65       60       60     C\n",
      "9    Sita   19  Female    85       88       90     A\n"
     ]
    }
   ],
   "source": [
    "df['Math'] = df['Math'].astype(int)\n",
    "df['Science'] = df['Science'].astype(int)\n",
    "print(df.dtypes)\n",
    "print(df)"
   ]
  },
  {
   "cell_type": "code",
   "execution_count": 12,
   "id": "58fd800a",
   "metadata": {},
   "outputs": [
    {
     "name": "stdout",
     "output_type": "stream",
     "text": [
      "     Name  Age  Gender  Math  Science  English Grade  Result\n",
      "0   Aarav   18    Male    80       78       85     A     243\n",
      "1    Sita   19  Female    85       82       88     A     255\n",
      "2  Ramesh   17    Male    75       72       70     B     217\n",
      "3    Sita   18    Male    90       95       92     A     277\n",
      "4   Binod   18    Male    80       80       75     B     235\n",
      "5    Rita   20  Female    70       78       65     C     213\n",
      "7   Kiran   17    Male    60       58       55     C     173\n",
      "8   Laxmi   16  Female    65       60       60     C     185\n",
      "9    Sita   19  Female    85       88       90     A     263\n"
     ]
    }
   ],
   "source": [
    "df['Result'] = df['Math'] + df['Science'] + df['English']\n",
    "print(df)"
   ]
  },
  {
   "cell_type": "code",
   "execution_count": 13,
   "id": "451a5bf4",
   "metadata": {},
   "outputs": [
    {
     "name": "stdout",
     "output_type": "stream",
     "text": [
      "     Name  Age  Gender  Math  Science  English Grade  Result  Percentage\n",
      "0   Aarav   18    Male    80       78       85     A     243   81.000000\n",
      "1    Sita   19  Female    85       82       88     A     255   85.000000\n",
      "2  Ramesh   17    Male    75       72       70     B     217   72.333333\n",
      "3    Sita   18    Male    90       95       92     A     277   92.333333\n",
      "4   Binod   18    Male    80       80       75     B     235   78.333333\n",
      "5    Rita   20  Female    70       78       65     C     213   71.000000\n",
      "7   Kiran   17    Male    60       58       55     C     173   57.666667\n",
      "8   Laxmi   16  Female    65       60       60     C     185   61.666667\n",
      "9    Sita   19  Female    85       88       90     A     263   87.666667\n"
     ]
    }
   ],
   "source": [
    "df['Percentage'] = (df['Result'] / 300) * 100\n",
    "print(df)"
   ]
  },
  {
   "cell_type": "code",
   "execution_count": 14,
   "id": "93956ae7",
   "metadata": {},
   "outputs": [
    {
     "name": "stdout",
     "output_type": "stream",
     "text": [
      "     Name  Age  Gender  Math  Science  English Grade  Result  Percentage\n",
      "0   Aarav   18    Male    80       78       85     A     243       81.00\n",
      "1    Sita   19  Female    85       82       88     A     255       85.00\n",
      "2  Ramesh   17    Male    75       72       70     B     217       72.33\n",
      "3    Sita   18    Male    90       95       92     A     277       92.33\n",
      "4   Binod   18    Male    80       80       75     B     235       78.33\n",
      "5    Rita   20  Female    70       78       65     C     213       71.00\n",
      "7   Kiran   17    Male    60       58       55     C     173       57.67\n",
      "8   Laxmi   16  Female    65       60       60     C     185       61.67\n",
      "9    Sita   19  Female    85       88       90     A     263       87.67\n"
     ]
    }
   ],
   "source": [
    "df[\"Percentage\"]= df[\"Percentage\"].astype(float).round(2)\n",
    "print(df)"
   ]
  },
  {
   "cell_type": "code",
   "execution_count": 15,
   "id": "1bed8728",
   "metadata": {},
   "outputs": [
    {
     "name": "stdout",
     "output_type": "stream",
     "text": [
      "     Name  Age  Gender  Math  Science  English Grade  Result  Percentage\n",
      "0   Aarav   18    Male    80       78       85     A     243       81.00\n",
      "1    Sita   19  Female    85       82       88     A     255       85.00\n",
      "2  Ramesh   17    Male    75       72       70     B     217       72.33\n",
      "3    Sita   18  Female    90       95       92     A     277       92.33\n",
      "4   Binod   18    Male    80       80       75     B     235       78.33\n",
      "5    Rita   20  Female    70       78       65     C     213       71.00\n",
      "7   Kiran   17    Male    60       58       55     C     173       57.67\n",
      "8   Laxmi   16  Female    65       60       60     C     185       61.67\n",
      "9    Sita   19  Female    85       88       90     A     263       87.67\n"
     ]
    }
   ],
   "source": [
    "df.loc[df[\"Name\"] == \"Sita\", \"Gender\"] = \"Female\"\n",
    "print(df)"
   ]
  },
  {
   "cell_type": "code",
   "execution_count": 16,
   "id": "ee42ea50",
   "metadata": {},
   "outputs": [
    {
     "name": "stdout",
     "output_type": "stream",
     "text": [
      "Cleaned data saved to 'result.csv\n"
     ]
    }
   ],
   "source": [
    "df.to_csv(\"result.csv\", index=False)\n",
    "print(\"Cleaned data saved to 'result.csv\")"
   ]
  }
 ],
 "metadata": {
  "kernelspec": {
   "display_name": "env",
   "language": "python",
   "name": "python3"
  },
  "language_info": {
   "codemirror_mode": {
    "name": "ipython",
    "version": 3
   },
   "file_extension": ".py",
   "mimetype": "text/x-python",
   "name": "python",
   "nbconvert_exporter": "python",
   "pygments_lexer": "ipython3",
   "version": "3.12.3"
  }
 },
 "nbformat": 4,
 "nbformat_minor": 5
}
